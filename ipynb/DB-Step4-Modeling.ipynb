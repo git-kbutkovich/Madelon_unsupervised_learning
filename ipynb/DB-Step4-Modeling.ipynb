{
 "cells": [
  {
   "cell_type": "code",
   "execution_count": 6,
   "metadata": {},
   "outputs": [
    {
     "name": "stdout",
     "output_type": "stream",
     "text": [
      "/home/jovyan/work/dsi-plus-2/Projects/project_3\n"
     ]
    }
   ],
   "source": [
    "cd project_3/"
   ]
  },
  {
   "cell_type": "code",
   "execution_count": 10,
   "metadata": {},
   "outputs": [],
   "source": [
    "run __init.py__"
   ]
  },
  {
   "cell_type": "code",
   "execution_count": null,
   "metadata": {},
   "outputs": [],
   "source": []
  },
  {
   "cell_type": "markdown",
   "metadata": {},
   "source": [
    "### importing training and target data"
   ]
  },
  {
   "cell_type": "code",
   "execution_count": 12,
   "metadata": {},
   "outputs": [
    {
     "data": {
      "text/plain": [
       "(6506, 20)"
      ]
     },
     "execution_count": 12,
     "metadata": {},
     "output_type": "execute_result"
    }
   ],
   "source": [
    "DB_trimmed_df3.shape"
   ]
  },
  {
   "cell_type": "code",
   "execution_count": 13,
   "metadata": {},
   "outputs": [
    {
     "data": {
      "text/plain": [
       "(6506,)"
      ]
     },
     "execution_count": 13,
     "metadata": {},
     "output_type": "execute_result"
    }
   ],
   "source": [
    "DB_target.shape"
   ]
  },
  {
   "cell_type": "code",
   "execution_count": 15,
   "metadata": {},
   "outputs": [
    {
     "data": {
      "text/plain": [
       "0    1\n",
       "1    1\n",
       "2    1\n",
       "3    1\n",
       "4    0\n",
       "Name: target, dtype: int64"
      ]
     },
     "execution_count": 15,
     "metadata": {},
     "output_type": "execute_result"
    }
   ],
   "source": [
    "DB_target.head()"
   ]
  },
  {
   "cell_type": "code",
   "execution_count": 14,
   "metadata": {},
   "outputs": [
    {
     "data": {
      "text/html": [
       "<div>\n",
       "<table border=\"1\" class=\"dataframe\">\n",
       "  <thead>\n",
       "    <tr style=\"text-align: right;\">\n",
       "      <th></th>\n",
       "      <th>feat_639</th>\n",
       "      <th>feat_956</th>\n",
       "      <th>feat_341</th>\n",
       "      <th>feat_315</th>\n",
       "      <th>feat_867</th>\n",
       "      <th>feat_269</th>\n",
       "      <th>feat_336</th>\n",
       "      <th>feat_395</th>\n",
       "      <th>feat_701</th>\n",
       "      <th>feat_724</th>\n",
       "      <th>feat_257</th>\n",
       "      <th>feat_526</th>\n",
       "      <th>feat_769</th>\n",
       "      <th>feat_829</th>\n",
       "      <th>feat_920</th>\n",
       "      <th>feat_736</th>\n",
       "      <th>feat_808</th>\n",
       "      <th>feat_504</th>\n",
       "      <th>feat_681</th>\n",
       "      <th>feat_308</th>\n",
       "    </tr>\n",
       "  </thead>\n",
       "  <tbody>\n",
       "    <tr>\n",
       "      <th>0</th>\n",
       "      <td>0.660916</td>\n",
       "      <td>1.088752</td>\n",
       "      <td>1.188703</td>\n",
       "      <td>-0.515358</td>\n",
       "      <td>0.955454</td>\n",
       "      <td>1.101862</td>\n",
       "      <td>-0.075655</td>\n",
       "      <td>-1.403369</td>\n",
       "      <td>-1.120387</td>\n",
       "      <td>0.477059</td>\n",
       "      <td>1.538805</td>\n",
       "      <td>0.110727</td>\n",
       "      <td>-0.311059</td>\n",
       "      <td>2.449488</td>\n",
       "      <td>-2.098730</td>\n",
       "      <td>-1.308329</td>\n",
       "      <td>-0.473198</td>\n",
       "      <td>-0.056173</td>\n",
       "      <td>1.334591</td>\n",
       "      <td>2.122377</td>\n",
       "    </tr>\n",
       "    <tr>\n",
       "      <th>1</th>\n",
       "      <td>-3.165634</td>\n",
       "      <td>-2.523248</td>\n",
       "      <td>-5.627815</td>\n",
       "      <td>0.661298</td>\n",
       "      <td>4.071490</td>\n",
       "      <td>-1.842153</td>\n",
       "      <td>-5.979303</td>\n",
       "      <td>-4.490868</td>\n",
       "      <td>-2.609116</td>\n",
       "      <td>2.173005</td>\n",
       "      <td>-0.594964</td>\n",
       "      <td>3.090302</td>\n",
       "      <td>4.475702</td>\n",
       "      <td>-1.123622</td>\n",
       "      <td>-1.925724</td>\n",
       "      <td>-4.241024</td>\n",
       "      <td>1.926215</td>\n",
       "      <td>-0.142134</td>\n",
       "      <td>-1.204221</td>\n",
       "      <td>1.903192</td>\n",
       "    </tr>\n",
       "    <tr>\n",
       "      <th>2</th>\n",
       "      <td>-0.343109</td>\n",
       "      <td>-0.621201</td>\n",
       "      <td>-2.602240</td>\n",
       "      <td>-0.549913</td>\n",
       "      <td>-0.136897</td>\n",
       "      <td>-3.181469</td>\n",
       "      <td>-1.688440</td>\n",
       "      <td>-0.219289</td>\n",
       "      <td>2.005632</td>\n",
       "      <td>0.186641</td>\n",
       "      <td>-1.204416</td>\n",
       "      <td>-0.236597</td>\n",
       "      <td>1.644917</td>\n",
       "      <td>-2.236824</td>\n",
       "      <td>1.470112</td>\n",
       "      <td>-0.885454</td>\n",
       "      <td>1.530122</td>\n",
       "      <td>1.143919</td>\n",
       "      <td>-2.159218</td>\n",
       "      <td>-0.487422</td>\n",
       "    </tr>\n",
       "    <tr>\n",
       "      <th>3</th>\n",
       "      <td>1.353230</td>\n",
       "      <td>0.833855</td>\n",
       "      <td>0.134574</td>\n",
       "      <td>-0.190346</td>\n",
       "      <td>-0.852043</td>\n",
       "      <td>-1.593220</td>\n",
       "      <td>1.094138</td>\n",
       "      <td>0.395046</td>\n",
       "      <td>0.947323</td>\n",
       "      <td>0.447420</td>\n",
       "      <td>0.610367</td>\n",
       "      <td>0.130765</td>\n",
       "      <td>1.223934</td>\n",
       "      <td>1.354489</td>\n",
       "      <td>0.095909</td>\n",
       "      <td>0.823544</td>\n",
       "      <td>-0.200368</td>\n",
       "      <td>1.967008</td>\n",
       "      <td>-2.256630</td>\n",
       "      <td>-1.562784</td>\n",
       "    </tr>\n",
       "    <tr>\n",
       "      <th>4</th>\n",
       "      <td>-3.097087</td>\n",
       "      <td>-2.029956</td>\n",
       "      <td>-6.348887</td>\n",
       "      <td>-1.210703</td>\n",
       "      <td>1.537945</td>\n",
       "      <td>-2.622201</td>\n",
       "      <td>-3.810353</td>\n",
       "      <td>-5.264516</td>\n",
       "      <td>-0.340054</td>\n",
       "      <td>4.948624</td>\n",
       "      <td>0.610158</td>\n",
       "      <td>2.813066</td>\n",
       "      <td>3.107586</td>\n",
       "      <td>-2.873155</td>\n",
       "      <td>1.047722</td>\n",
       "      <td>-3.454296</td>\n",
       "      <td>-0.341100</td>\n",
       "      <td>-3.458921</td>\n",
       "      <td>0.777129</td>\n",
       "      <td>0.920890</td>\n",
       "    </tr>\n",
       "  </tbody>\n",
       "</table>\n",
       "</div>"
      ],
      "text/plain": [
       "   feat_639  feat_956  feat_341  feat_315  feat_867  feat_269  feat_336  \\\n",
       "0  0.660916  1.088752  1.188703 -0.515358  0.955454  1.101862 -0.075655   \n",
       "1 -3.165634 -2.523248 -5.627815  0.661298  4.071490 -1.842153 -5.979303   \n",
       "2 -0.343109 -0.621201 -2.602240 -0.549913 -0.136897 -3.181469 -1.688440   \n",
       "3  1.353230  0.833855  0.134574 -0.190346 -0.852043 -1.593220  1.094138   \n",
       "4 -3.097087 -2.029956 -6.348887 -1.210703  1.537945 -2.622201 -3.810353   \n",
       "\n",
       "   feat_395  feat_701  feat_724  feat_257  feat_526  feat_769  feat_829  \\\n",
       "0 -1.403369 -1.120387  0.477059  1.538805  0.110727 -0.311059  2.449488   \n",
       "1 -4.490868 -2.609116  2.173005 -0.594964  3.090302  4.475702 -1.123622   \n",
       "2 -0.219289  2.005632  0.186641 -1.204416 -0.236597  1.644917 -2.236824   \n",
       "3  0.395046  0.947323  0.447420  0.610367  0.130765  1.223934  1.354489   \n",
       "4 -5.264516 -0.340054  4.948624  0.610158  2.813066  3.107586 -2.873155   \n",
       "\n",
       "   feat_920  feat_736  feat_808  feat_504  feat_681  feat_308  \n",
       "0 -2.098730 -1.308329 -0.473198 -0.056173  1.334591  2.122377  \n",
       "1 -1.925724 -4.241024  1.926215 -0.142134 -1.204221  1.903192  \n",
       "2  1.470112 -0.885454  1.530122  1.143919 -2.159218 -0.487422  \n",
       "3  0.095909  0.823544 -0.200368  1.967008 -2.256630 -1.562784  \n",
       "4  1.047722 -3.454296 -0.341100 -3.458921  0.777129  0.920890  "
      ]
     },
     "execution_count": 14,
     "metadata": {},
     "output_type": "execute_result"
    }
   ],
   "source": [
    "DB_trimmed_df3.head()"
   ]
  },
  {
   "cell_type": "code",
   "execution_count": null,
   "metadata": {},
   "outputs": [],
   "source": []
  },
  {
   "cell_type": "code",
   "execution_count": null,
   "metadata": {},
   "outputs": [],
   "source": []
  },
  {
   "cell_type": "markdown",
   "metadata": {},
   "source": [
    "### Setting up Logistic Regression Model"
   ]
  },
  {
   "cell_type": "code",
   "execution_count": 16,
   "metadata": {},
   "outputs": [],
   "source": [
    "# Train-test split the data\n",
    "X_train, X_test, y_train, y_test = train_test_split(DB_trimmed_df3, DB_target, random_state = 42)\n"
   ]
  },
  {
   "cell_type": "code",
   "execution_count": 18,
   "metadata": {},
   "outputs": [],
   "source": [
    "# Instantiate your pipeline\n",
    "logreg_pipeline = Pipeline([\n",
    "    ('scaler', StandardScaler()),\n",
    "    ('regr', LogisticRegression(),\n",
    "    )\n",
    "])"
   ]
  },
  {
   "cell_type": "code",
   "execution_count": 21,
   "metadata": {},
   "outputs": [
    {
     "data": {
      "text/plain": [
       "Pipeline(memory=None,\n",
       "     steps=[('scaler', StandardScaler(copy=True, with_mean=True, with_std=True)), ('regr', LogisticRegression(C=1.0, class_weight=None, dual=False, fit_intercept=True,\n",
       "          intercept_scaling=1, max_iter=100, multi_class='ovr', n_jobs=1,\n",
       "          penalty='l2', random_state=None, solver='liblinear', tol=0.0001,\n",
       "          verbose=0, warm_start=False))])"
      ]
     },
     "execution_count": 21,
     "metadata": {},
     "output_type": "execute_result"
    }
   ],
   "source": [
    "# Fit the pipeline to your training features and target\n",
    "logreg_pipeline.fit(X_train, y_train)  ###acale and fit all models you choose at once!!!!\n",
    "# logreg_pipeline.transform(X_test)"
   ]
  },
  {
   "cell_type": "code",
   "execution_count": 22,
   "metadata": {},
   "outputs": [
    {
     "data": {
      "text/plain": [
       "0.59496004917025203"
      ]
     },
     "execution_count": 22,
     "metadata": {},
     "output_type": "execute_result"
    }
   ],
   "source": [
    "logreg_validation_score = logreg_pipeline.score(X_test, y_test)  \n",
    "logreg_validation_score"
   ]
  },
  {
   "cell_type": "markdown",
   "metadata": {},
   "source": [
    "### Setting up KNN Classifier Model"
   ]
  },
  {
   "cell_type": "code",
   "execution_count": 23,
   "metadata": {},
   "outputs": [],
   "source": [
    "\n",
    "\n",
    "# Instantiate  pipeline.  No hyperparameters\n",
    "KNN_pipeline = Pipeline([\n",
    "    ('scaler', StandardScaler()),\n",
    "    ('regr', KNeighborsClassifier(),\n",
    "    )\n",
    "])\n",
    "\n"
   ]
  },
  {
   "cell_type": "code",
   "execution_count": 24,
   "metadata": {},
   "outputs": [
    {
     "data": {
      "text/plain": [
       "Pipeline(memory=None,\n",
       "     steps=[('scaler', StandardScaler(copy=True, with_mean=True, with_std=True)), ('regr', KNeighborsClassifier(algorithm='auto', leaf_size=30, metric='minkowski',\n",
       "           metric_params=None, n_jobs=1, n_neighbors=5, p=2,\n",
       "           weights='uniform'))])"
      ]
     },
     "execution_count": 24,
     "metadata": {},
     "output_type": "execute_result"
    }
   ],
   "source": [
    "# Fit the pipeline to your training features and target\n",
    "KNN_pipeline.fit(X_train, y_train)  ###scale and fit all models you choose at once!!!!\n",
    "# KNN_pipeline.transform(X_test)"
   ]
  },
  {
   "cell_type": "code",
   "execution_count": 25,
   "metadata": {},
   "outputs": [
    {
     "data": {
      "text/plain": [
       "0.79287031346035652"
      ]
     },
     "execution_count": 25,
     "metadata": {},
     "output_type": "execute_result"
    }
   ],
   "source": [
    "KNN_validation_score = KNN_pipeline.score(X_test, y_test)  \n",
    "KNN_validation_score"
   ]
  },
  {
   "cell_type": "code",
   "execution_count": null,
   "metadata": {},
   "outputs": [],
   "source": []
  },
  {
   "cell_type": "markdown",
   "metadata": {},
   "source": [
    "###  Setting up Decision Tree Classifier model¶\n"
   ]
  },
  {
   "cell_type": "code",
   "execution_count": 26,
   "metadata": {},
   "outputs": [],
   "source": [
    "DTR_pipeline = Pipeline([ # Instantiate  pipeline.  No hyperparameters\n",
    "\n",
    "    ('scaler', StandardScaler()),\n",
    "    ('regr', DecisionTreeClassifier(),\n",
    "    )\n",
    "])"
   ]
  },
  {
   "cell_type": "code",
   "execution_count": 27,
   "metadata": {},
   "outputs": [
    {
     "data": {
      "text/plain": [
       "Pipeline(memory=None,\n",
       "     steps=[('scaler', StandardScaler(copy=True, with_mean=True, with_std=True)), ('regr', DecisionTreeClassifier(class_weight=None, criterion='gini', max_depth=None,\n",
       "            max_features=None, max_leaf_nodes=None,\n",
       "            min_impurity_decrease=0.0, min_impurity_split=None,\n",
       "            min_samples_leaf=1, min_samples_split=2,\n",
       "            min_weight_fraction_leaf=0.0, presort=False, random_state=None,\n",
       "            splitter='best'))])"
      ]
     },
     "execution_count": 27,
     "metadata": {},
     "output_type": "execute_result"
    }
   ],
   "source": [
    "DTR_pipeline.fit(X_train, y_train)"
   ]
  },
  {
   "cell_type": "code",
   "execution_count": 28,
   "metadata": {},
   "outputs": [
    {
     "data": {
      "text/plain": [
       "0.71542716656422867"
      ]
     },
     "execution_count": 28,
     "metadata": {},
     "output_type": "execute_result"
    }
   ],
   "source": [
    "DTR_validation_score = DTR_pipeline.score(X_test, y_test)\n",
    "DTR_validation_score\n"
   ]
  },
  {
   "cell_type": "code",
   "execution_count": null,
   "metadata": {},
   "outputs": [],
   "source": []
  },
  {
   "cell_type": "markdown",
   "metadata": {},
   "source": [
    "### Setting up SVC pipeline"
   ]
  },
  {
   "cell_type": "code",
   "execution_count": 29,
   "metadata": {},
   "outputs": [],
   "source": [
    "SVC_pipeline = Pipeline([ # Instantiate  pipeline.  No hyperparameters\n",
    "\n",
    "    ('scaler', StandardScaler()),\n",
    "    ('regr', SVC(),\n",
    "    )\n",
    "])\n"
   ]
  },
  {
   "cell_type": "code",
   "execution_count": 30,
   "metadata": {},
   "outputs": [
    {
     "data": {
      "text/plain": [
       "Pipeline(memory=None,\n",
       "     steps=[('scaler', StandardScaler(copy=True, with_mean=True, with_std=True)), ('regr', SVC(C=1.0, cache_size=200, class_weight=None, coef0=0.0,\n",
       "  decision_function_shape='ovr', degree=3, gamma='auto', kernel='rbf',\n",
       "  max_iter=-1, probability=False, random_state=None, shrinking=True,\n",
       "  tol=0.001, verbose=False))])"
      ]
     },
     "execution_count": 30,
     "metadata": {},
     "output_type": "execute_result"
    }
   ],
   "source": [
    "SVC_pipeline.fit(X_train, y_train)"
   ]
  },
  {
   "cell_type": "code",
   "execution_count": 31,
   "metadata": {},
   "outputs": [
    {
     "data": {
      "text/plain": [
       "0.75599262446220039"
      ]
     },
     "execution_count": 31,
     "metadata": {},
     "output_type": "execute_result"
    }
   ],
   "source": [
    "SVC_validation_score = SVC_pipeline.score(X_test, y_test)\n",
    "SVC_validation_score"
   ]
  },
  {
   "cell_type": "markdown",
   "metadata": {},
   "source": [
    "### Comparison of benchmarking to Validating."
   ]
  },
  {
   "cell_type": "markdown",
   "metadata": {},
   "source": [
    "### Preliminary benchmarking accuracy scores (before feature reduction, no hyperparameter tuning):\n"
   ]
  },
  {
   "cell_type": "markdown",
   "metadata": {},
   "source": [
    " - Logistic Regression Benchmark : 0.50\n",
    " - KNN Classifier Benchmark : 0.49 \n",
    " - Decision Tree Classifier Benchmark : 0.50\n",
    " - Support Vector Classifier Benchmark : 0.49"
   ]
  },
  {
   "cell_type": "markdown",
   "metadata": {},
   "source": [
    "### Final accuracy scores (after feature reduction, no hyperparameter tuning):\n"
   ]
  },
  {
   "cell_type": "markdown",
   "metadata": {},
   "source": [
    "- Logistic Reression : 0.59\n",
    "- KNN Classifier : 0.79\n",
    "- DecisionTree Classifier : 0.72\n",
    "- SVC Classifier : 0.75"
   ]
  },
  {
   "cell_type": "code",
   "execution_count": null,
   "metadata": {},
   "outputs": [],
   "source": []
  },
  {
   "cell_type": "code",
   "execution_count": null,
   "metadata": {},
   "outputs": [],
   "source": []
  },
  {
   "cell_type": "code",
   "execution_count": null,
   "metadata": {},
   "outputs": [],
   "source": []
  }
 ],
 "metadata": {
  "kernelspec": {
   "display_name": "Python 3",
   "language": "python",
   "name": "python3"
  },
  "language_info": {
   "codemirror_mode": {
    "name": "ipython",
    "version": 3
   },
   "file_extension": ".py",
   "mimetype": "text/x-python",
   "name": "python",
   "nbconvert_exporter": "python",
   "pygments_lexer": "ipython3",
   "version": "3.6.2"
  }
 },
 "nbformat": 4,
 "nbformat_minor": 2
}

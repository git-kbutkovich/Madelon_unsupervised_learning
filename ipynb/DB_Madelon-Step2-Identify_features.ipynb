{
 "cells": [
  {
   "cell_type": "code",
   "execution_count": null,
   "metadata": {},
   "outputs": [],
   "source": []
  },
  {
   "cell_type": "markdown",
   "metadata": {},
   "source": [
    "### Importing All Our Libraries"
   ]
  },
  {
   "cell_type": "code",
   "execution_count": 1,
   "metadata": {},
   "outputs": [],
   "source": [
    "import csv\n",
    "from IPython.display import display\n",
    "import numpy as np\n",
    "import pandas as pd\n",
    "import matplotlib as plt\n",
    "import seaborn as sns\n",
    "%matplotlib inline\n",
    "\n",
    "from sklearn.model_selection import train_test_split\n",
    "from sklearn.preprocessing import StandardScaler\n",
    "from sklearn.pipeline import Pipeline\n",
    "from sklearn.model_selection import GridSearchCV\n",
    "\n",
    "from sklearn.neighbors import KNeighborsRegressor\n",
    "from sklearn.feature_selection import SelectKBest\n",
    "from sklearn.feature_selection import SelectFromModel\n",
    "from sklearn.tree import DecisionTreeRegressor\n"
   ]
  },
  {
   "cell_type": "code",
   "execution_count": null,
   "metadata": {
    "scrolled": true
   },
   "outputs": [],
   "source": []
  },
  {
   "cell_type": "code",
   "execution_count": null,
   "metadata": {},
   "outputs": [],
   "source": []
  },
  {
   "cell_type": "markdown",
   "metadata": {},
   "source": [
    "### Importing Pickles & Sampling"
   ]
  },
  {
   "cell_type": "code",
   "execution_count": 4,
   "metadata": {},
   "outputs": [],
   "source": [
    "# madelonDB_df_1 = pd.read_pickle('../pickle_jar/madelonDB_df_1.p')\n",
    "# Sample 1"
   ]
  },
  {
   "cell_type": "code",
   "execution_count": 5,
   "metadata": {},
   "outputs": [],
   "source": [
    "madelon_df_sample1 = pd.read_pickle('../pickle_jar/madelon_df_sample1.p')"
   ]
  },
  {
   "cell_type": "code",
   "execution_count": 7,
   "metadata": {},
   "outputs": [
    {
     "data": {
      "text/plain": [
       "(6506, 1000)"
      ]
     },
     "execution_count": 7,
     "metadata": {},
     "output_type": "execute_result"
    }
   ],
   "source": [
    "madelon_df_sample1.shape"
   ]
  },
  {
   "cell_type": "code",
   "execution_count": 6,
   "metadata": {},
   "outputs": [
    {
     "ename": "NameError",
     "evalue": "name 'madelonDB_df_1' is not defined",
     "output_type": "error",
     "traceback": [
      "\u001b[0;31m\u001b[0m",
      "\u001b[0;31mNameError\u001b[0mTraceback (most recent call last)",
      "\u001b[0;32m<ipython-input-6-c06bcb826dc4>\u001b[0m in \u001b[0;36m<module>\u001b[0;34m()\u001b[0m\n\u001b[0;32m----> 1\u001b[0;31m \u001b[0mmadelon_df_sample1\u001b[0m \u001b[0;34m=\u001b[0m \u001b[0mmadelonDB_df_1\u001b[0m\u001b[0;34m.\u001b[0m\u001b[0msample\u001b[0m\u001b[0;34m(\u001b[0m\u001b[0mn\u001b[0m\u001b[0;34m=\u001b[0m\u001b[0;36m6506\u001b[0m\u001b[0;34m)\u001b[0m\u001b[0;34m\u001b[0m\u001b[0m\n\u001b[0m\u001b[1;32m      2\u001b[0m \u001b[0mmadelon_df_sample1\u001b[0m\u001b[0;34m.\u001b[0m\u001b[0mdrop\u001b[0m\u001b[0;34m(\u001b[0m\u001b[0;34m[\u001b[0m\u001b[0;34m'_id'\u001b[0m\u001b[0;34m,\u001b[0m \u001b[0;34m'target'\u001b[0m\u001b[0;34m]\u001b[0m\u001b[0;34m,\u001b[0m \u001b[0maxis\u001b[0m\u001b[0;34m=\u001b[0m\u001b[0;36m1\u001b[0m\u001b[0;34m,\u001b[0m \u001b[0minplace\u001b[0m\u001b[0;34m=\u001b[0m\u001b[0;32mTrue\u001b[0m\u001b[0;34m)\u001b[0m\u001b[0;34m\u001b[0m\u001b[0m\n\u001b[1;32m      3\u001b[0m \u001b[0mmadelon_df_sample1\u001b[0m\u001b[0;34m.\u001b[0m\u001b[0mto_pickle\u001b[0m\u001b[0;34m(\u001b[0m\u001b[0;34m'../pickle_jar/madelon_df_sample1.p'\u001b[0m\u001b[0;34m)\u001b[0m\u001b[0;34m\u001b[0m\u001b[0m\n\u001b[1;32m      4\u001b[0m \u001b[0mmadelon_df_sample1\u001b[0m\u001b[0;34m.\u001b[0m\u001b[0mshape\u001b[0m\u001b[0;34m\u001b[0m\u001b[0m\n\u001b[1;32m      5\u001b[0m \u001b[0;34m\u001b[0m\u001b[0m\n",
      "\u001b[0;31mNameError\u001b[0m: name 'madelonDB_df_1' is not defined"
     ]
    }
   ],
   "source": [
    "# madelon_df_sample1 = madelonDB_df_1.sample(n=6506)\n",
    "# madelon_df_sample1.drop(['_id', 'target'], axis=1, inplace=True)\n",
    "# madelon_df_sample1.to_pickle('../pickle_jar/madelon_df_sample1.p')\n",
    "# madelon_df_sample1.shape\n",
    "\n",
    "###using a 90% confidence level for 200000 observations, 6506 observations can be used."
   ]
  },
  {
   "cell_type": "code",
   "execution_count": null,
   "metadata": {},
   "outputs": [],
   "source": [
    "# madelonDB_df_2 = pd.read_pickle('../pickle_jar/madelonDB_df_2.p')\n"
   ]
  },
  {
   "cell_type": "code",
   "execution_count": null,
   "metadata": {},
   "outputs": [],
   "source": [
    "# madelonDB_df_3 = pd.read_pickle('../pickle_jar/madelonDB_df_3.p')\n",
    "# Sample 3"
   ]
  },
  {
   "cell_type": "code",
   "execution_count": 9,
   "metadata": {},
   "outputs": [
    {
     "data": {
      "text/html": [
       "<div>\n",
       "<table border=\"1\" class=\"dataframe\">\n",
       "  <thead>\n",
       "    <tr style=\"text-align: right;\">\n",
       "      <th></th>\n",
       "      <th>feat_000</th>\n",
       "      <th>feat_001</th>\n",
       "      <th>feat_002</th>\n",
       "      <th>feat_003</th>\n",
       "      <th>feat_004</th>\n",
       "      <th>feat_005</th>\n",
       "      <th>feat_006</th>\n",
       "      <th>feat_007</th>\n",
       "      <th>feat_008</th>\n",
       "      <th>feat_009</th>\n",
       "      <th>...</th>\n",
       "      <th>feat_990</th>\n",
       "      <th>feat_991</th>\n",
       "      <th>feat_992</th>\n",
       "      <th>feat_993</th>\n",
       "      <th>feat_994</th>\n",
       "      <th>feat_995</th>\n",
       "      <th>feat_996</th>\n",
       "      <th>feat_997</th>\n",
       "      <th>feat_998</th>\n",
       "      <th>feat_999</th>\n",
       "    </tr>\n",
       "  </thead>\n",
       "  <tbody>\n",
       "    <tr>\n",
       "      <th>8745</th>\n",
       "      <td>1.612453</td>\n",
       "      <td>-0.585020</td>\n",
       "      <td>1.721859</td>\n",
       "      <td>0.028504</td>\n",
       "      <td>-1.682401</td>\n",
       "      <td>-0.071984</td>\n",
       "      <td>-0.610132</td>\n",
       "      <td>-1.702912</td>\n",
       "      <td>-0.477045</td>\n",
       "      <td>-0.174641</td>\n",
       "      <td>...</td>\n",
       "      <td>-1.340779</td>\n",
       "      <td>-0.719934</td>\n",
       "      <td>-0.939262</td>\n",
       "      <td>1.466086</td>\n",
       "      <td>0.889605</td>\n",
       "      <td>0.369877</td>\n",
       "      <td>1.235523</td>\n",
       "      <td>-0.374983</td>\n",
       "      <td>-1.112633</td>\n",
       "      <td>-0.886285</td>\n",
       "    </tr>\n",
       "    <tr>\n",
       "      <th>177</th>\n",
       "      <td>-0.474331</td>\n",
       "      <td>-1.113445</td>\n",
       "      <td>-1.123621</td>\n",
       "      <td>-2.463700</td>\n",
       "      <td>-0.104933</td>\n",
       "      <td>-0.220470</td>\n",
       "      <td>0.314237</td>\n",
       "      <td>0.460615</td>\n",
       "      <td>1.268409</td>\n",
       "      <td>-0.104256</td>\n",
       "      <td>...</td>\n",
       "      <td>-0.674403</td>\n",
       "      <td>0.853589</td>\n",
       "      <td>-1.975372</td>\n",
       "      <td>0.558601</td>\n",
       "      <td>-0.635750</td>\n",
       "      <td>-1.516897</td>\n",
       "      <td>0.128233</td>\n",
       "      <td>-0.492096</td>\n",
       "      <td>0.216707</td>\n",
       "      <td>-0.737455</td>\n",
       "    </tr>\n",
       "    <tr>\n",
       "      <th>9320</th>\n",
       "      <td>-1.413026</td>\n",
       "      <td>0.659141</td>\n",
       "      <td>0.692785</td>\n",
       "      <td>-0.120696</td>\n",
       "      <td>-0.888852</td>\n",
       "      <td>0.496022</td>\n",
       "      <td>0.676064</td>\n",
       "      <td>2.025445</td>\n",
       "      <td>0.158987</td>\n",
       "      <td>-0.165953</td>\n",
       "      <td>...</td>\n",
       "      <td>-0.611356</td>\n",
       "      <td>-1.070797</td>\n",
       "      <td>0.987023</td>\n",
       "      <td>0.813906</td>\n",
       "      <td>-0.517381</td>\n",
       "      <td>0.263809</td>\n",
       "      <td>-0.023989</td>\n",
       "      <td>1.970504</td>\n",
       "      <td>0.380462</td>\n",
       "      <td>1.955041</td>\n",
       "    </tr>\n",
       "    <tr>\n",
       "      <th>3894</th>\n",
       "      <td>1.374102</td>\n",
       "      <td>2.081560</td>\n",
       "      <td>0.220331</td>\n",
       "      <td>1.001642</td>\n",
       "      <td>0.870977</td>\n",
       "      <td>-0.313178</td>\n",
       "      <td>0.372807</td>\n",
       "      <td>1.793856</td>\n",
       "      <td>-0.460775</td>\n",
       "      <td>-1.145118</td>\n",
       "      <td>...</td>\n",
       "      <td>0.778442</td>\n",
       "      <td>1.008810</td>\n",
       "      <td>-0.380035</td>\n",
       "      <td>0.883557</td>\n",
       "      <td>-0.056344</td>\n",
       "      <td>-1.085049</td>\n",
       "      <td>0.660752</td>\n",
       "      <td>1.680530</td>\n",
       "      <td>1.869766</td>\n",
       "      <td>-1.080207</td>\n",
       "    </tr>\n",
       "    <tr>\n",
       "      <th>10418</th>\n",
       "      <td>0.406855</td>\n",
       "      <td>0.164889</td>\n",
       "      <td>-0.354532</td>\n",
       "      <td>-1.200992</td>\n",
       "      <td>0.110831</td>\n",
       "      <td>-1.084098</td>\n",
       "      <td>0.820044</td>\n",
       "      <td>-1.880285</td>\n",
       "      <td>1.015531</td>\n",
       "      <td>-0.131458</td>\n",
       "      <td>...</td>\n",
       "      <td>0.402619</td>\n",
       "      <td>0.479055</td>\n",
       "      <td>-1.063681</td>\n",
       "      <td>1.777802</td>\n",
       "      <td>1.236999</td>\n",
       "      <td>1.495742</td>\n",
       "      <td>1.211317</td>\n",
       "      <td>-2.072228</td>\n",
       "      <td>-1.108570</td>\n",
       "      <td>2.069111</td>\n",
       "    </tr>\n",
       "  </tbody>\n",
       "</table>\n",
       "<p>5 rows × 1000 columns</p>\n",
       "</div>"
      ],
      "text/plain": [
       "       feat_000  feat_001  feat_002  feat_003  feat_004  feat_005  feat_006  \\\n",
       "8745   1.612453 -0.585020  1.721859  0.028504 -1.682401 -0.071984 -0.610132   \n",
       "177   -0.474331 -1.113445 -1.123621 -2.463700 -0.104933 -0.220470  0.314237   \n",
       "9320  -1.413026  0.659141  0.692785 -0.120696 -0.888852  0.496022  0.676064   \n",
       "3894   1.374102  2.081560  0.220331  1.001642  0.870977 -0.313178  0.372807   \n",
       "10418  0.406855  0.164889 -0.354532 -1.200992  0.110831 -1.084098  0.820044   \n",
       "\n",
       "       feat_007  feat_008  feat_009    ...     feat_990  feat_991  feat_992  \\\n",
       "8745  -1.702912 -0.477045 -0.174641    ...    -1.340779 -0.719934 -0.939262   \n",
       "177    0.460615  1.268409 -0.104256    ...    -0.674403  0.853589 -1.975372   \n",
       "9320   2.025445  0.158987 -0.165953    ...    -0.611356 -1.070797  0.987023   \n",
       "3894   1.793856 -0.460775 -1.145118    ...     0.778442  1.008810 -0.380035   \n",
       "10418 -1.880285  1.015531 -0.131458    ...     0.402619  0.479055 -1.063681   \n",
       "\n",
       "       feat_993  feat_994  feat_995  feat_996  feat_997  feat_998  feat_999  \n",
       "8745   1.466086  0.889605  0.369877  1.235523 -0.374983 -1.112633 -0.886285  \n",
       "177    0.558601 -0.635750 -1.516897  0.128233 -0.492096  0.216707 -0.737455  \n",
       "9320   0.813906 -0.517381  0.263809 -0.023989  1.970504  0.380462  1.955041  \n",
       "3894   0.883557 -0.056344 -1.085049  0.660752  1.680530  1.869766 -1.080207  \n",
       "10418  1.777802  1.236999  1.495742  1.211317 -2.072228 -1.108570  2.069111  \n",
       "\n",
       "[5 rows x 1000 columns]"
      ]
     },
     "execution_count": 9,
     "metadata": {},
     "output_type": "execute_result"
    }
   ],
   "source": [
    "madelon_df_sample1.head()\n",
    "# UCI_train_df.isnull().any().sum()  #no nulls!"
   ]
  },
  {
   "cell_type": "code",
   "execution_count": null,
   "metadata": {},
   "outputs": [],
   "source": [
    "# madelonDB_df_1_sample = madelonDB_df_1.sample(n=200, axis=0)\n",
    "# We have already taken 10% sample from query. Not needed again."
   ]
  },
  {
   "cell_type": "code",
   "execution_count": null,
   "metadata": {},
   "outputs": [],
   "source": [
    "# madelonDB_df_1.dtypes\n",
    "### All dtypes are objects.  Must be integers in order to perform calcs"
   ]
  },
  {
   "cell_type": "code",
   "execution_count": null,
   "metadata": {},
   "outputs": [],
   "source": []
  },
  {
   "cell_type": "code",
   "execution_count": null,
   "metadata": {},
   "outputs": [],
   "source": []
  },
  {
   "cell_type": "markdown",
   "metadata": {},
   "source": [
    "### Feature Selection Functions & Sample Tests"
   ]
  },
  {
   "cell_type": "code",
   "execution_count": null,
   "metadata": {},
   "outputs": [],
   "source": []
  },
  {
   "cell_type": "code",
   "execution_count": 10,
   "metadata": {},
   "outputs": [],
   "source": [
    "def calculate_r2_for_feature(X, X_column, model):  ###X and a column in X\n",
    "    ### X is 200 rows x 500 features\n",
    "    temp_X = X.drop(X_column, axis = 1)  #drops the current feature\n",
    "    ### i.e.all other columns are tested for relation to current feature\n",
    "    temp_y = X[X_column]  ##sets the current column as the target\n",
    "    \n",
    "    temp_X_train, \\\n",
    "    temp_X_test, \\\n",
    "    temp_y_train,  \\\n",
    "    temp_y_test = train_test_split(temp_X, temp_y, test_size=0.25)\n",
    "    \n",
    "    \n",
    "    regressor = model()\n",
    "    regressor.fit(temp_X_train, temp_y_train)\n",
    "    \n",
    "    score = regressor.score(temp_X_test, temp_y_test)\n",
    "    return score"
   ]
  },
  {
   "cell_type": "code",
   "execution_count": 11,
   "metadata": {},
   "outputs": [
    {
     "data": {
      "text/plain": [
       "-0.22999647843773732"
      ]
     },
     "execution_count": 11,
     "metadata": {},
     "output_type": "execute_result"
    }
   ],
   "source": [
    "calculate_r2_for_feature(madelon_df_sample1, \"feat_991\", KNeighborsRegressor)   ###just testing a random feature to make sure the f(x) works"
   ]
  },
  {
   "cell_type": "code",
   "execution_count": 12,
   "metadata": {},
   "outputs": [],
   "source": [
    "def mean_r2_for_feature(X, X_column, model, runs=100):\n",
    "    ###runs 100 times for each of the 500 features in the dataset.\n",
    "    scores = []\n",
    "    for _ in range(runs):\n",
    "        scores.append(calculate_r2_for_feature(X, X_column, model))\n",
    "        \n",
    "    scores = np.array(scores)\n",
    "    return scores.mean()"
   ]
  },
  {
   "cell_type": "code",
   "execution_count": 13,
   "metadata": {},
   "outputs": [
    {
     "data": {
      "text/plain": [
       "-0.19699429782500033"
      ]
     },
     "execution_count": 13,
     "metadata": {},
     "output_type": "execute_result"
    }
   ],
   "source": [
    "mean_r2_for_feature(madelon_df_sample1, \"feat_991\", KNeighborsRegressor)  ###just testing a random feature"
   ]
  },
  {
   "cell_type": "markdown",
   "metadata": {},
   "source": [
    "### Feature Selection with K_Neighbors_Regressor"
   ]
  },
  {
   "cell_type": "code",
   "execution_count": null,
   "metadata": {},
   "outputs": [],
   "source": [
    "# KNN = KNeighborsRegressor()\n",
    "# KNN."
   ]
  },
  {
   "cell_type": "code",
   "execution_count": 14,
   "metadata": {},
   "outputs": [],
   "source": [
    "###takes a long time to run .  Be careful!\n",
    "\n",
    "# KNN_feature_dict_1 = {}\n",
    "# for i in madelon_df_sample1:  \n",
    "#     KNN_feature_dict_1.update({i : mean_r2_for_feature(madelon_df_sample1, i, KNeighborsRegressor)})  "
   ]
  },
  {
   "cell_type": "code",
   "execution_count": null,
   "metadata": {
    "scrolled": true
   },
   "outputs": [],
   "source": [
    "DB_KNN_feature_df = pd.Series(KNN_feature_dict_1)\n",
    "DB_KNN_feature_df"
   ]
  },
  {
   "cell_type": "code",
   "execution_count": 20,
   "metadata": {},
   "outputs": [
    {
     "data": {
      "text/plain": [
       "feat_639    0.823098\n",
       "feat_956    0.812655\n",
       "feat_341    0.805597\n",
       "feat_315    0.784512\n",
       "feat_867    0.738653\n",
       "feat_269    0.731432\n",
       "feat_336    0.726863\n",
       "feat_395    0.724598\n",
       "feat_701    0.722937\n",
       "feat_724    0.689320\n",
       "feat_257    0.687571\n",
       "feat_526    0.671504\n",
       "feat_769    0.637541\n",
       "feat_829    0.622081\n",
       "feat_920    0.613580\n",
       "feat_736    0.612644\n",
       "feat_808    0.601825\n",
       "feat_504    0.587794\n",
       "feat_681    0.463794\n",
       "feat_308    0.346516\n",
       "dtype: float64"
      ]
     },
     "execution_count": 20,
     "metadata": {},
     "output_type": "execute_result"
    }
   ],
   "source": [
    "DB_KNN_feature_df.sort_values(ascending=False, inplace=True)\n",
    "DB_features = DB_KNN_feature_df[:20]\n",
    "DB_features"
   ]
  },
  {
   "cell_type": "code",
   "execution_count": null,
   "metadata": {},
   "outputs": [],
   "source": []
  },
  {
   "cell_type": "code",
   "execution_count": null,
   "metadata": {},
   "outputs": [],
   "source": []
  },
  {
   "cell_type": "code",
   "execution_count": null,
   "metadata": {},
   "outputs": [],
   "source": []
  },
  {
   "cell_type": "code",
   "execution_count": 21,
   "metadata": {},
   "outputs": [],
   "source": [
    "DB_features.to_pickle('../pickle_jar/DB_features.p')   ###pickled features from 1st sample"
   ]
  },
  {
   "cell_type": "code",
   "execution_count": null,
   "metadata": {},
   "outputs": [],
   "source": [
    "DB_features = pd.read_pickle('../pickle_jar/DB_features.p')  ###pickled DF from 1st sample"
   ]
  },
  {
   "cell_type": "code",
   "execution_count": null,
   "metadata": {},
   "outputs": [],
   "source": []
  },
  {
   "cell_type": "code",
   "execution_count": null,
   "metadata": {},
   "outputs": [],
   "source": [
    "###attempting to get a heatmap for further confirmation\n",
    "# fig = plt.figure(figsize = (20,20)) #\n",
    "# sns.heatmap(KNN_feature_df_masked.corr(), annot=True)  #choose values closest to +1 or-1 for correlation\n"
   ]
  },
  {
   "cell_type": "markdown",
   "metadata": {},
   "source": [
    "### Feature Selection with Select_K_Best"
   ]
  },
  {
   "cell_type": "code",
   "execution_count": null,
   "metadata": {},
   "outputs": [],
   "source": []
  },
  {
   "cell_type": "code",
   "execution_count": null,
   "metadata": {},
   "outputs": [],
   "source": [
    "skb = SelectKBest(k=20)\n",
    "madelon_df_sample1.shape"
   ]
  },
  {
   "cell_type": "code",
   "execution_count": null,
   "metadata": {},
   "outputs": [],
   "source": [
    "#skb_pipe = Pipeline(StandardScaler(), SelectKBest(k=20))\n",
    "\n",
    "# skb_X = UCI_train_df_sample_1.drop(i, axis = 1)  #drops the current feature\n",
    "    ### i.e.all other columns are tested for relation to current feature\n",
    "# skb_y = UCI_train_df_sample_1[i]  ##sets the current column as the target\n",
    "    \n",
    "# skb_X_train, \\\n",
    "# skb_X_test, \\\n",
    "# skb_y_train,  \\\n",
    "# skb_y_test = train_test_split(UCI_train_df_sample_1, target, test_size=0.25)\n",
    "X = combined_sample.drop(500, axis=1)\n",
    "y = combined_sample[500]\n",
    "    \n",
    "skb.fit(X, y)"
   ]
  },
  {
   "cell_type": "code",
   "execution_count": null,
   "metadata": {},
   "outputs": [],
   "source": [
    "skb.transform(X).shape  ###we have transformed the X-matrix from 500 to 20 relevant features"
   ]
  },
  {
   "cell_type": "code",
   "execution_count": null,
   "metadata": {},
   "outputs": [],
   "source": []
  },
  {
   "cell_type": "code",
   "execution_count": null,
   "metadata": {},
   "outputs": [],
   "source": [
    "skb.transform(X)"
   ]
  },
  {
   "cell_type": "code",
   "execution_count": null,
   "metadata": {
    "scrolled": true
   },
   "outputs": [],
   "source": [
    "skb.get_support()  ##retuens a bool array"
   ]
  },
  {
   "cell_type": "code",
   "execution_count": null,
   "metadata": {},
   "outputs": [],
   "source": [
    "mask = pd.Series(skb.get_support())\n",
    "mask.reshape((-1))  ##reshaping to match 1 row, 500 columns"
   ]
  },
  {
   "cell_type": "code",
   "execution_count": null,
   "metadata": {},
   "outputs": [],
   "source": []
  },
  {
   "cell_type": "code",
   "execution_count": null,
   "metadata": {},
   "outputs": [],
   "source": [
    "skb_scores = list(enumerate(skb.scores_))"
   ]
  },
  {
   "cell_type": "code",
   "execution_count": null,
   "metadata": {},
   "outputs": [],
   "source": [
    "skb_scores.sort(key = lambda x: x[1])"
   ]
  },
  {
   "cell_type": "code",
   "execution_count": null,
   "metadata": {},
   "outputs": [],
   "source": [
    "skb_scores_df = pd.DataFrame(scores)\n",
    "skb_scores_df.sort_values(1 , ascending=False, inplace=True)\n",
    "skb_scores_df.head(20)"
   ]
  },
  {
   "cell_type": "code",
   "execution_count": null,
   "metadata": {},
   "outputs": [],
   "source": [
    "skb_scores_df.to_pickle('../pickle_jar/skb_scores_df.p')"
   ]
  },
  {
   "cell_type": "code",
   "execution_count": null,
   "metadata": {},
   "outputs": [],
   "source": [
    "skb_scores_df = pd.read_pickle('../pickle_jar/skb_scores_df.p')"
   ]
  },
  {
   "cell_type": "code",
   "execution_count": null,
   "metadata": {},
   "outputs": [],
   "source": []
  },
  {
   "cell_type": "code",
   "execution_count": null,
   "metadata": {},
   "outputs": [],
   "source": []
  },
  {
   "cell_type": "code",
   "execution_count": null,
   "metadata": {},
   "outputs": [],
   "source": []
  }
 ],
 "metadata": {
  "kernelspec": {
   "display_name": "Python 3",
   "language": "python",
   "name": "python3"
  },
  "language_info": {
   "codemirror_mode": {
    "name": "ipython",
    "version": 3
   },
   "file_extension": ".py",
   "mimetype": "text/x-python",
   "name": "python",
   "nbconvert_exporter": "python",
   "pygments_lexer": "ipython3",
   "version": "3.6.2"
  }
 },
 "nbformat": 4,
 "nbformat_minor": 2
}
